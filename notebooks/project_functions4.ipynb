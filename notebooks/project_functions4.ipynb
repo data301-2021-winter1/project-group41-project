{
 "cells": [
  {
   "cell_type": "code",
   "execution_count": 2,
   "id": "fb2cd1c3-4795-42b5-9356-9da64cfb2b9c",
   "metadata": {},
   "outputs": [],
   "source": [
    "import pandas as pd\n",
    "import numpy as np"
   ]
  },
  {
   "cell_type": "code",
   "execution_count": null,
   "id": "7690e00d-f20a-47b4-9799-b41c88ca1c2c",
   "metadata": {},
   "outputs": [],
   "source": [
    "def load_and_process(url_or_path_to_csv_file):\n",
    "    \n",
    "    df8 = ( pd.read_csv(\"../data/raw/time_series_90s.csv\")\n",
    "    .rename(columns={'years_old_13': 'years_old_13(2003)', 'years_old_12': 'years_old_12(2002)','years_old_11': 'years_old_11(2001)','years_old_10': 'years_old_10(2000)','years_old_9': 'years_old_9(1999)','years_old_8': 'years_old_8(1998)', 'years_old_7': 'years_old_7(1997)','years_old_6': 'years_old_6(1996)', 'years_old_5': 'years_old_5(1995)','years_old_4': 'years_old_4(1994)','years_old_3': 'years_old_3(1993)','years_old_2': 'years_old_2(1992)','years_old_1': 'years_old_1(1991)','years_old_0': 'years_old_0(1990)','years_pre_birth_1':'years_pre_birth_1 (1989)','years_pre_birth_2':'years_pre_birth_2 (1988)','years_pre_birth_3':'years_pre_birth_3 (1987)','years_pre_birth_4':'years_pre_birth_4 (1986)', 'years_pre_birth_5':'years_pre_birth_5 (1985)' ,'years_pre_birth_6':'years_pre_birth_6 (1984)' ,'years_pre_birth_7':'years_pre_birth_7 (1983)','years_pre_birth_8':'years_pre_birth_8 (1982)','years_pre_birth_9':'years_pre_birth_9 (1981)','years_pre_birth_10':'years_pre_birth_10 (1980)','years_pre_birth_11':'years_pre_birth_11 (1979)','years_pre_birth_12':'years_pre_birth_12 (1978)','years_pre_birth_13':'years_pre_birth_13 (1977)'})\n",
    "    .merge(df1)\n",
    "    .reset_index(drop=True)\n",
    "    .sort_values(\"mean_millennial_recognition\", ascending=False)\n",
    "    \n",
    ")\n",
    " \n",
    "\n",
    "\n",
    "    return df8"
   ]
  },
  {
   "cell_type": "code",
   "execution_count": 5,
   "id": "c2ef365e-1b62-479a-a4d3-29dfbd471cb5",
   "metadata": {},
   "outputs": [
    {
     "name": "stdout",
     "output_type": "stream",
     "text": [
      "Requirement already satisfied: ipython in /Users/ryotanishida/Desktop/miniconda3/lib/python3.9/site-packages (7.27.0)\n",
      "Requirement already satisfied: appnope in /Users/ryotanishida/Desktop/miniconda3/lib/python3.9/site-packages (from ipython) (0.1.2)\n",
      "Requirement already satisfied: backcall in /Users/ryotanishida/Desktop/miniconda3/lib/python3.9/site-packages (from ipython) (0.2.0)\n",
      "Requirement already satisfied: pickleshare in /Users/ryotanishida/Desktop/miniconda3/lib/python3.9/site-packages (from ipython) (0.7.5)\n",
      "Requirement already satisfied: decorator in /Users/ryotanishida/Desktop/miniconda3/lib/python3.9/site-packages (from ipython) (5.1.0)\n",
      "Requirement already satisfied: traitlets>=4.2 in /Users/ryotanishida/Desktop/miniconda3/lib/python3.9/site-packages (from ipython) (5.1.0)\n",
      "Requirement already satisfied: setuptools>=18.5 in /Users/ryotanishida/Desktop/miniconda3/lib/python3.9/site-packages (from ipython) (52.0.0.post20210125)\n",
      "Requirement already satisfied: pexpect>4.3 in /Users/ryotanishida/Desktop/miniconda3/lib/python3.9/site-packages (from ipython) (4.8.0)\n",
      "Requirement already satisfied: jedi>=0.16 in /Users/ryotanishida/Desktop/miniconda3/lib/python3.9/site-packages (from ipython) (0.18.0)\n",
      "Requirement already satisfied: pygments in /Users/ryotanishida/Desktop/miniconda3/lib/python3.9/site-packages (from ipython) (2.10.0)\n",
      "Requirement already satisfied: matplotlib-inline in /Users/ryotanishida/Desktop/miniconda3/lib/python3.9/site-packages (from ipython) (0.1.3)\n",
      "Requirement already satisfied: prompt-toolkit!=3.0.0,!=3.0.1,<3.1.0,>=2.0.0 in /Users/ryotanishida/Desktop/miniconda3/lib/python3.9/site-packages (from ipython) (3.0.20)\n",
      "Requirement already satisfied: parso<0.9.0,>=0.8.0 in /Users/ryotanishida/Desktop/miniconda3/lib/python3.9/site-packages (from jedi>=0.16->ipython) (0.8.2)\n",
      "Requirement already satisfied: ptyprocess>=0.5 in /Users/ryotanishida/Desktop/miniconda3/lib/python3.9/site-packages (from pexpect>4.3->ipython) (0.7.0)\n",
      "Requirement already satisfied: wcwidth in /Users/ryotanishida/Desktop/miniconda3/lib/python3.9/site-packages (from prompt-toolkit!=3.0.0,!=3.0.1,<3.1.0,>=2.0.0->ipython) (0.2.5)\n",
      "Note: you may need to restart the kernel to use updated packages.\n"
     ]
    }
   ],
   "source": [
    "pip install ipython"
   ]
  },
  {
   "cell_type": "code",
   "execution_count": 6,
   "id": "96d612a0-96ab-4484-9c48-b134c35e6f99",
   "metadata": {},
   "outputs": [
    {
     "name": "stdout",
     "output_type": "stream",
     "text": [
      "Requirement already satisfied: nbconvert in /Users/ryotanishida/Desktop/miniconda3/lib/python3.9/site-packages (6.1.0)\n",
      "Requirement already satisfied: defusedxml in /Users/ryotanishida/Desktop/miniconda3/lib/python3.9/site-packages (from nbconvert) (0.7.1)\n",
      "Requirement already satisfied: jupyter-core in /Users/ryotanishida/Desktop/miniconda3/lib/python3.9/site-packages (from nbconvert) (4.7.1)\n",
      "Requirement already satisfied: jinja2>=2.4 in /Users/ryotanishida/Desktop/miniconda3/lib/python3.9/site-packages (from nbconvert) (3.0.1)\n",
      "Requirement already satisfied: testpath in /Users/ryotanishida/Desktop/miniconda3/lib/python3.9/site-packages (from nbconvert) (0.5.0)\n",
      "Requirement already satisfied: traitlets>=5.0 in /Users/ryotanishida/Desktop/miniconda3/lib/python3.9/site-packages (from nbconvert) (5.1.0)\n",
      "Requirement already satisfied: bleach in /Users/ryotanishida/Desktop/miniconda3/lib/python3.9/site-packages (from nbconvert) (4.1.0)\n",
      "Requirement already satisfied: jupyterlab-pygments in /Users/ryotanishida/Desktop/miniconda3/lib/python3.9/site-packages (from nbconvert) (0.1.2)\n",
      "Requirement already satisfied: pandocfilters>=1.4.1 in /Users/ryotanishida/Desktop/miniconda3/lib/python3.9/site-packages (from nbconvert) (1.5.0)\n",
      "Requirement already satisfied: pygments>=2.4.1 in /Users/ryotanishida/Desktop/miniconda3/lib/python3.9/site-packages (from nbconvert) (2.10.0)\n",
      "Requirement already satisfied: nbclient<0.6.0,>=0.5.0 in /Users/ryotanishida/Desktop/miniconda3/lib/python3.9/site-packages (from nbconvert) (0.5.4)\n",
      "Requirement already satisfied: entrypoints>=0.2.2 in /Users/ryotanishida/Desktop/miniconda3/lib/python3.9/site-packages (from nbconvert) (0.3)\n",
      "Requirement already satisfied: nbformat>=4.4 in /Users/ryotanishida/Desktop/miniconda3/lib/python3.9/site-packages (from nbconvert) (5.1.3)\n",
      "Requirement already satisfied: mistune<2,>=0.8.1 in /Users/ryotanishida/Desktop/miniconda3/lib/python3.9/site-packages (from nbconvert) (0.8.4)\n",
      "Requirement already satisfied: MarkupSafe>=2.0 in /Users/ryotanishida/Desktop/miniconda3/lib/python3.9/site-packages (from jinja2>=2.4->nbconvert) (2.0.1)\n",
      "Requirement already satisfied: jupyter-client>=6.1.5 in /Users/ryotanishida/Desktop/miniconda3/lib/python3.9/site-packages (from nbclient<0.6.0,>=0.5.0->nbconvert) (7.0.2)\n",
      "Requirement already satisfied: nest-asyncio in /Users/ryotanishida/Desktop/miniconda3/lib/python3.9/site-packages (from nbclient<0.6.0,>=0.5.0->nbconvert) (1.5.1)\n",
      "Requirement already satisfied: python-dateutil>=2.1 in /Users/ryotanishida/Desktop/miniconda3/lib/python3.9/site-packages (from jupyter-client>=6.1.5->nbclient<0.6.0,>=0.5.0->nbconvert) (2.8.2)\n",
      "Requirement already satisfied: pyzmq>=13 in /Users/ryotanishida/Desktop/miniconda3/lib/python3.9/site-packages (from jupyter-client>=6.1.5->nbclient<0.6.0,>=0.5.0->nbconvert) (22.2.1)\n",
      "Requirement already satisfied: tornado>=4.1 in /Users/ryotanishida/Desktop/miniconda3/lib/python3.9/site-packages (from jupyter-client>=6.1.5->nbclient<0.6.0,>=0.5.0->nbconvert) (6.1)\n",
      "Requirement already satisfied: ipython-genutils in /Users/ryotanishida/Desktop/miniconda3/lib/python3.9/site-packages (from nbformat>=4.4->nbconvert) (0.2.0)\n",
      "Requirement already satisfied: jsonschema!=2.5.0,>=2.4 in /Users/ryotanishida/Desktop/miniconda3/lib/python3.9/site-packages (from nbformat>=4.4->nbconvert) (3.2.0)\n",
      "Requirement already satisfied: six>=1.11.0 in /Users/ryotanishida/Desktop/miniconda3/lib/python3.9/site-packages (from jsonschema!=2.5.0,>=2.4->nbformat>=4.4->nbconvert) (1.16.0)\n",
      "Requirement already satisfied: setuptools in /Users/ryotanishida/Desktop/miniconda3/lib/python3.9/site-packages (from jsonschema!=2.5.0,>=2.4->nbformat>=4.4->nbconvert) (52.0.0.post20210125)\n",
      "Requirement already satisfied: attrs>=17.4.0 in /Users/ryotanishida/Desktop/miniconda3/lib/python3.9/site-packages (from jsonschema!=2.5.0,>=2.4->nbformat>=4.4->nbconvert) (21.2.0)\n",
      "Requirement already satisfied: pyrsistent>=0.14.0 in /Users/ryotanishida/Desktop/miniconda3/lib/python3.9/site-packages (from jsonschema!=2.5.0,>=2.4->nbformat>=4.4->nbconvert) (0.17.3)\n",
      "Requirement already satisfied: packaging in /Users/ryotanishida/Desktop/miniconda3/lib/python3.9/site-packages (from bleach->nbconvert) (21.0)\n",
      "Requirement already satisfied: webencodings in /Users/ryotanishida/Desktop/miniconda3/lib/python3.9/site-packages (from bleach->nbconvert) (0.5.1)\n",
      "Requirement already satisfied: pyparsing>=2.0.2 in /Users/ryotanishida/Desktop/miniconda3/lib/python3.9/site-packages (from packaging->bleach->nbconvert) (2.4.7)\n",
      "Note: you may need to restart the kernel to use updated packages.\n"
     ]
    }
   ],
   "source": [
    "pip install nbconvert"
   ]
  },
  {
   "cell_type": "code",
   "execution_count": 1,
   "id": "fefd8a43-7419-43f3-8423-79c2b2653be9",
   "metadata": {},
   "outputs": [
    {
     "ename": "SyntaxError",
     "evalue": "invalid syntax (<ipython-input-1-bd8be5e7ef5f>, line 1)",
     "output_type": "error",
     "traceback": [
      "\u001b[0;36m  File \u001b[0;32m\"<ipython-input-1-bd8be5e7ef5f>\"\u001b[0;36m, line \u001b[0;32m1\u001b[0m\n\u001b[0;31m    ipython nbconvert — to script abc.ipynb\u001b[0m\n\u001b[0m            ^\u001b[0m\n\u001b[0;31mSyntaxError\u001b[0m\u001b[0;31m:\u001b[0m invalid syntax\n"
     ]
    }
   ],
   "source": [
    "ipython nbconvert — to script abc.ipynb"
   ]
  },
  {
   "cell_type": "code",
   "execution_count": null,
   "id": "82e73c2d-6467-4b10-9d3b-f8fa6e3d1ee8",
   "metadata": {},
   "outputs": [],
   "source": []
  }
 ],
 "metadata": {
  "kernelspec": {
   "display_name": "Python 3",
   "language": "python",
   "name": "python3"
  },
  "language_info": {
   "codemirror_mode": {
    "name": "ipython",
    "version": 3
   },
   "file_extension": ".py",
   "mimetype": "text/x-python",
   "name": "python",
   "nbconvert_exporter": "python",
   "pygments_lexer": "ipython3",
   "version": "3.9.5"
  }
 },
 "nbformat": 4,
 "nbformat_minor": 5
}

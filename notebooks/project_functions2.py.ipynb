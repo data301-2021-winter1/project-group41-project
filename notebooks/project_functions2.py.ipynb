{
 "cells": [
  {
   "cell_type": "code",
   "execution_count": 1,
   "id": "32ebc585-48cd-42e9-a0cc-2d6c8c5b78ef",
   "metadata": {},
   "outputs": [
    {
     "ename": "SyntaxError",
     "evalue": "invalid syntax (Temp/ipykernel_21600/4000710076.py, line 21)",
     "output_type": "error",
     "traceback": [
      "\u001b[1;36m  File \u001b[1;32m\"C:\\Users\\anish\\AppData\\Local\\Temp/ipykernel_21600/4000710076.py\"\u001b[1;36m, line \u001b[1;32m21\u001b[0m\n\u001b[1;33m    nintiesRecData_sortedByZTop = (nintiesRecData.sort_values(by=['mean_gen_z_recognition'])\u001b[0m\n\u001b[1;37m    ^\u001b[0m\n\u001b[1;31mSyntaxError\u001b[0m\u001b[1;31m:\u001b[0m invalid syntax\n"
     ]
    }
   ],
   "source": [
    "def load_and_process(url_or_path_to_csv_file):\n",
    "    \n",
    "    nintiesRecData = pd.read_csv(url_or_path_to_csv_file)\n",
    "    \n",
    "    nintiesRecData['avg_across_gen'] = (nintiesRecData['mean_millennial_recognition']*nintiesRecData['mean_gen_z_recognition'])/2 \n",
    "    \n",
    "    nintiesRecData_sortedByMillTop = (\n",
    "        nintiesRecData.sort_values(by=['mean_millennial_recognition'])\n",
    "        .drop('mean_gen_z_recognition',1)\n",
    "        .drop('avg_across_gen',1)\n",
    "        .reset_index(drop=True)\n",
    "        .drop(nintiesRecData_sortedByMillTop.index[10:344],0,inplace=True)\n",
    "    )\n",
    "    \n",
    "    nintiesRecData_sortedByMillB = (nintiesRecData.sort_values(by=['mean_millennial_recognition'])\n",
    "    .drop('mean_gen_z_recognition',1)\n",
    "    .drop('avg_across_gen',1)\n",
    "    .reset_index(drop=True)\n",
    "    .drop(nintiesRecData_sortedByMillB.index[0:332],0,inplace=True)\n",
    "    \n",
    "    nintiesRecData_sortedByZTop = (nintiesRecData.sort_values(by=['mean_gen_z_recognition'])\n",
    "    .drop('mean_millennial_recognition',1)\n",
    "    .drop('avg_across_gen', 1)\n",
    "    .reset_index(drop=True)\n",
    "    .drop(nintiesRecData_sortedByZTop.index[10:344],0,inplace=True)\n",
    "    )\n",
    "    \n",
    "    nintiesRecData_sortedByZB = (nintiesRecData.sort_values(by=['mean_gen_z_recognition'])\n",
    "    .drop('mean_millennial_recognition', 1)\n",
    "    .drop('avg_across_gen', 1)\n",
    "    .reset_index(drop=True)\n",
    "    .drop(nintiesRecData_sortedByZB.index[0:332],0,inplace=True)\n",
    "    \n",
    "    nintiesRecData_sortedByAvgTop = (nintiesRecData.sort_values(by=['avg_across_gen'])\n",
    "    .drop('mean_gen_z_recognition', 1)\n",
    "    .drop('mean_millennial_recognition', 1)\n",
    "    .reset_index(drop=True)\n",
    "    .drop(nintiesRecData_sortedByZTop.index[10:344],0,inplace=True)\n",
    "    \n",
    "    nintiesRecData_sortedByAvgB = (nintiesRecData.sort_values(by=['avg_across_gen'])\n",
    "    .drop('mean_gen_z_recognition', 1)\n",
    "    .drop('mean_millennial_recognition', 1)\n",
    "    .reset_index(drop=True)\n",
    "    .drop(nintiesRecData_sortedByZB.index[0:332],0,inplace=True)\n",
    "    \n",
    "    return nintiesRecData_sortedByAvgB\n",
    "    \n",
    "\n",
    "\n",
    "def load_and_process(\"../data/raw/recognition_by_generation.csv)"
   ]
  },
  {
   "cell_type": "code",
   "execution_count": null,
   "id": "ac287382-2015-4cf3-aef8-db5dc92a0b3f",
   "metadata": {},
   "outputs": [],
   "source": []
  }
 ],
 "metadata": {
  "kernelspec": {
   "display_name": "Python 3 (ipykernel)",
   "language": "python",
   "name": "python3"
  },
  "language_info": {
   "codemirror_mode": {
    "name": "ipython",
    "version": 3
   },
   "file_extension": ".py",
   "mimetype": "text/x-python",
   "name": "python",
   "nbconvert_exporter": "python",
   "pygments_lexer": "ipython3",
   "version": "3.9.5"
  }
 },
 "nbformat": 4,
 "nbformat_minor": 5
}

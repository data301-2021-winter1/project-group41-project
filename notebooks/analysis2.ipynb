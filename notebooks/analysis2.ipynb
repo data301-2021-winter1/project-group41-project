{
 "cells": [
  {
   "cell_type": "markdown",
   "metadata": {},
   "source": [
    "# Anisha Parikh"
   ]
  },
  {
   "cell_type": "markdown",
   "metadata": {},
   "source": [
    "## Research question/interests\n",
    "My research question is what are the top 10 most remembered songs and the bottom 10 least remembered songs"
   ]
  },
  {
   "cell_type": "code",
   "execution_count": 80,
   "metadata": {},
   "outputs": [
    {
     "ename": "SyntaxError",
     "evalue": "invalid syntax (Temp/ipykernel_7688/503277268.py, line 26)",
     "output_type": "error",
     "traceback": [
      "\u001b[1;36m  File \u001b[1;32m\"C:\\Users\\anish\\AppData\\Local\\Temp/ipykernel_7688/503277268.py\"\u001b[1;36m, line \u001b[1;32m26\u001b[0m\n\u001b[1;33m    nintiesRecData_sortedByMillTop\u001b[0m\n\u001b[1;37m    ^\u001b[0m\n\u001b[1;31mSyntaxError\u001b[0m\u001b[1;31m:\u001b[0m invalid syntax\n"
     ]
    }
   ],
   "source": [
    "import numpy as np\n",
    "import pandas as pd\n",
    "import matplotlib.pyplot as plt\n",
    "import seaborn as sns\n",
    "\n",
    "#%matplotlib inline\n",
    "\n",
    "# Some code to style plots\n",
    "\n",
    "import matplotlib.pyplot as plt\n",
    "import seaborn as sns\n",
    "\n",
    "\n",
    "nintiesRecData = pd.read_csv(\"../data/raw/recognition_by_generation.csv\")\n",
    "\n",
    "nintiesRecData\n",
    "\n",
    "nintiesRecData['avg_across_gen'] = (nintiesRecData['mean_millennial_recognition']*nintiesRecData['mean_gen_z_recognition'])/2 \n",
    "\n",
    "nintiesRecData_sortedByMillTop = (nintiesRecData.sort_values(by=['mean_millennial_recognition'])\n",
    "    .drop('mean_gen_z_recognition',1)\n",
    "    .drop('avg_across_gen',1)\n",
    "    .reset_index(drop=True)\n",
    "    .drop(nintiesRecData_sortedByMillTop.index[0:332],0,inplace=True)\n",
    "\n",
    "nintiesRecData_sortedByMillTop"
   ]
  },
  {
   "cell_type": "code",
   "execution_count": 78,
   "metadata": {},
   "outputs": [
    {
     "name": "stderr",
     "output_type": "stream",
     "text": [
      "C:\\Users\\anish\\AppData\\Local\\Temp/ipykernel_7688/3229036234.py:2: FutureWarning: In a future version of pandas all arguments of DataFrame.drop except for the argument 'labels' will be keyword-only\n",
      "  nintiesRecData_sortedByMillB = nintiesRecData_sortedByMillB.drop('mean_gen_z_recognition',1)\n",
      "C:\\Users\\anish\\AppData\\Local\\Temp/ipykernel_7688/3229036234.py:3: FutureWarning: In a future version of pandas all arguments of DataFrame.drop except for the argument 'labels' will be keyword-only\n",
      "  nintiesRecData_sortedByMillB = nintiesRecData_sortedByMillB.drop('avg_across_gen',1)\n",
      "C:\\Users\\anish\\AppData\\Local\\Temp/ipykernel_7688/3229036234.py:5: FutureWarning: In a future version of pandas all arguments of DataFrame.drop except for the argument 'labels' will be keyword-only\n",
      "  nintiesRecData_sortedByMillB.drop(nintiesRecData_sortedByMillB.index[0:332],0,inplace=True)\n"
     ]
    },
    {
     "data": {
      "text/plain": [
       "<seaborn.axisgrid.FacetGrid at 0x19e1fb7d8b0>"
      ]
     },
     "execution_count": 78,
     "metadata": {},
     "output_type": "execute_result"
    },
    {
     "data": {
      "image/png": "[encoded data removed]",
      "text/plain": [
       "<Figure size 539.5x360 with 1 Axes>"
      ]
     },
     "metadata": {
      "needs_background": "light"
     },
     "output_type": "display_data"
    }
   ],
   "source": [
    "nintiesRecData_sortedByMillB = nintiesRecData.sort_values(by=['mean_millennial_recognition'])\n",
    "nintiesRecData_sortedByMillB = nintiesRecData_sortedByMillB.drop('mean_gen_z_recognition',1)\n",
    "nintiesRecData_sortedByMillB = nintiesRecData_sortedByMillB.drop('avg_across_gen',1)\n",
    "nintiesRecData_sortedByMillB = nintiesRecData_sortedByMillB.reset_index(drop=True)\n",
    "nintiesRecData_sortedByMillB.drop(nintiesRecData_sortedByMillB.index[0:332],0,inplace=True)\n",
    "\n",
    "sns.displot(data = nintiesRecData_sortedByMillB)"
   ]
  },
  {
   "cell_type": "code",
   "execution_count": 75,
   "metadata": {},
   "outputs": [
    {
     "name": "stderr",
     "output_type": "stream",
     "text": [
      "C:\\Users\\anish\\AppData\\Local\\Temp/ipykernel_7688/3565789066.py:2: FutureWarning: In a future version of pandas all arguments of DataFrame.drop except for the argument 'labels' will be keyword-only\n",
      "  nintiesRecData_sortedByZTop= nintiesRecData_sortedByZTop.drop('mean_gen_z_recognition', 1)\n",
      "C:\\Users\\anish\\AppData\\Local\\Temp/ipykernel_7688/3565789066.py:3: FutureWarning: In a future version of pandas all arguments of DataFrame.drop except for the argument 'labels' will be keyword-only\n",
      "  nintiesRecData_sortedByZTop= nintiesRecData_sortedByZTop.drop('avg_across_gen', 1)\n",
      "C:\\Users\\anish\\AppData\\Local\\Temp/ipykernel_7688/3565789066.py:5: FutureWarning: In a future version of pandas all arguments of DataFrame.drop except for the argument 'labels' will be keyword-only\n",
      "  nintiesRecData_sortedByZTop.drop(nintiesRecData_sortedByZTop.index[10:344],0,inplace=True)\n"
     ]
    },
    {
     "data": {
      "text/plain": [
       "<seaborn.axisgrid.FacetGrid at 0x19e1e9a5370>"
      ]
     },
     "execution_count": 75,
     "metadata": {},
     "output_type": "execute_result"
    },
    {
     "data": {
      "image/png": "[encoded data removed]",
      "text/plain": [
       "<Figure size 539.5x360 with 1 Axes>"
      ]
     },
     "metadata": {
      "needs_background": "light"
     },
     "output_type": "display_data"
    }
   ],
   "source": [
    "nintiesRecData_sortedByZTop = nintiesRecData.sort_values(by=['mean_gen_z_recognition'])\n",
    "nintiesRecData_sortedByZTop= nintiesRecData_sortedByZTop.drop('mean_gen_z_recognition', 1)\n",
    "nintiesRecData_sortedByZTop= nintiesRecData_sortedByZTop.drop('avg_across_gen', 1)\n",
    "nintiesRecData_sortedByZTop = nintiesRecData_sortedByZTop.reset_index(drop=True)\n",
    "nintiesRecData_sortedByZTop.drop(nintiesRecData_sortedByZTop.index[10:344],0,inplace=True)\n",
    "\n",
    "sns.displot(data = nintiesRecData_sortedByZTop)"
   ]
  },
  {
   "cell_type": "code",
   "execution_count": 77,
   "metadata": {},
   "outputs": [
    {
     "name": "stderr",
     "output_type": "stream",
     "text": [
      "C:\\Users\\anish\\AppData\\Local\\Temp/ipykernel_7688/674178417.py:2: FutureWarning: In a future version of pandas all arguments of DataFrame.drop except for the argument 'labels' will be keyword-only\n",
      "  nintiesRecData_sortedByZB= nintiesRecData_sortedByZB.drop('mean_gen_z_recognition', 1)\n",
      "C:\\Users\\anish\\AppData\\Local\\Temp/ipykernel_7688/674178417.py:3: FutureWarning: In a future version of pandas all arguments of DataFrame.drop except for the argument 'labels' will be keyword-only\n",
      "  nintiesRecData_sortedByZB= nintiesRecData_sortedByZB.drop('avg_across_gen', 1)\n",
      "C:\\Users\\anish\\AppData\\Local\\Temp/ipykernel_7688/674178417.py:5: FutureWarning: In a future version of pandas all arguments of DataFrame.drop except for the argument 'labels' will be keyword-only\n",
      "  nintiesRecData_sortedByZB.drop(nintiesRecData_sortedByZB.index[0:332],0,inplace=True)\n"
     ]
    },
    {
     "data": {
      "text/plain": [
       "<seaborn.axisgrid.FacetGrid at 0x19e1e7a5c40>"
      ]
     },
     "execution_count": 77,
     "metadata": {},
     "output_type": "execute_result"
    },
    {
     "data": {
      "image/png": "[encoded data removed]",
      "text/plain": [
       "<Figure size 539.5x360 with 1 Axes>"
      ]
     },
     "metadata": {
      "needs_background": "light"
     },
     "output_type": "display_data"
    }
   ],
   "source": [
    "nintiesRecData_sortedByZB = nintiesRecData.sort_values(by=['mean_gen_z_recognition'])\n",
    "nintiesRecData_sortedByZB= nintiesRecData_sortedByZB.drop('mean_gen_z_recognition', 1)\n",
    "nintiesRecData_sortedByZB= nintiesRecData_sortedByZB.drop('avg_across_gen', 1)\n",
    "nintiesRecData_sortedByZB = nintiesRecData_sortedByZB.reset_index(drop=True)\n",
    "nintiesRecData_sortedByZB.drop(nintiesRecData_sortedByZB.index[0:332],0,inplace=True)\n",
    "sns.displot(data = nintiesRecData_sortedByZB)"
   ]
  },
  {
   "cell_type": "code",
   "execution_count": 47,
   "metadata": {},
   "outputs": [],
   "source": [
    "# Seaborn provides built in datasets\n",
    "#makeNewSortedTables()\n",
    "#nintiesRecData_sortedByMill"
   ]
  },
  {
   "cell_type": "code",
   "execution_count": null,
   "metadata": {},
   "outputs": [],
   "source": [
    "\n",
    "\n",
    "nintiesRecData_sortedByAvg = nintiesRecData.sort_values(by=['avg_across_gen'])\n",
    "nintiesRecData_sortedByAvg= nintiesRecData_sortedByAvg.drop('mean_gen_z_recognition', 1)\n",
    "nintiesRecData_sortedByAvg= nintiesRecData_sortedByAvg.drop('mean_millennial_recognition', 1)\n",
    "nintiesRecData_sortedByAvg = nintiesRecData_sortedByAvg.reset_index(drop=True)\n",
    "nintiesRecData_sortedByAvg.drop(nintiesRecData_sortedByAvg.index[11:332],0,inplace=True)\n",
    "\n",
    "nintiesRecData_sortedByMill\n",
    "sns.scatterplot(data = nintiesRecData_sortedByMill)"
   ]
  },
  {
   "cell_type": "code",
   "execution_count": 26,
   "metadata": {},
   "outputs": [],
   "source": [
    "\n"
   ]
  },
  {
   "cell_type": "code",
   "execution_count": 24,
   "metadata": {},
   "outputs": [],
   "source": [
    "# steps\n",
    "# 1. remove table\n",
    "# 2. create new column of avg between gen \n",
    "# 3. created new sheets in different orders"
   ]
  },
  {
   "cell_type": "code",
   "execution_count": null,
   "metadata": {},
   "outputs": [],
   "source": []
  },
  {
   "cell_type": "code",
   "execution_count": null,
   "metadata": {},
   "outputs": [],
   "source": []
  }
 ],
 "metadata": {
  "kernelspec": {
   "display_name": "Python 3 (ipykernel)",
   "language": "python",
   "name": "python3"
  },
  "language_info": {
   "codemirror_mode": {
    "name": "ipython",
    "version": 3
   },
   "file_extension": ".py",
   "mimetype": "text/x-python",
   "name": "python",
   "nbconvert_exporter": "python",
   "pygments_lexer": "ipython3",
   "version": "3.9.5"
  }
 },
 "nbformat": 4,
 "nbformat_minor": 4
}

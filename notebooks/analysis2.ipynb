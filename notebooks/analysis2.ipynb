{
 "cells": [
  {
   "cell_type": "markdown",
   "metadata": {},
   "source": [
    "# Anisha Parikh"
   ]
  },
  {
   "cell_type": "markdown",
   "metadata": {},
   "source": [
    "## Research question/interests\n",
    "My research question is what are the top 10 most remembered songs and the bottom 10 least remembered songs"
   ]
  },
  {
   "cell_type": "code",
   "execution_count": 52,
   "metadata": {},
   "outputs": [
    {
     "name": "stderr",
     "output_type": "stream",
     "text": [
      "C:\\Users\\anish\\AppData\\Local\\Temp/ipykernel_7688/2445423837.py:19: FutureWarning: In a future version of pandas all arguments of DataFrame.drop except for the argument 'labels' will be keyword-only\n",
      "  nintiesRecData_sortedByMill= nintiesRecData_sortedByMill.drop('mean_gen_z_recognition', 1)\n",
      "C:\\Users\\anish\\AppData\\Local\\Temp/ipykernel_7688/2445423837.py:20: FutureWarning: In a future version of pandas all arguments of DataFrame.drop except for the argument 'labels' will be keyword-only\n",
      "  nintiesRecData_sortedByMill= nintiesRecData_sortedByMill.drop('avg_across_gen', 1)\n",
      "C:\\Users\\anish\\AppData\\Local\\Temp/ipykernel_7688/2445423837.py:22: FutureWarning: In a future version of pandas all arguments of DataFrame.drop except for the argument 'labels' will be keyword-only\n",
      "  nintiesRecData_sortedByMill.drop(nintiesRecData_sortedByMill.index[11:332],0,inplace=True)\n"
     ]
    },
    {
     "data": {
      "text/plain": [
       "<seaborn.axisgrid.FacetGrid at 0x19e1e677760>"
      ]
     },
     "execution_count": 52,
     "metadata": {},
     "output_type": "execute_result"
    },
    {
     "data": {
      "image/png": "[encoded data removed]",
      "text/plain": [
       "<Figure size 539.5x360 with 1 Axes>"
      ]
     },
     "metadata": {
      "needs_background": "light"
     },
     "output_type": "display_data"
    }
   ],
   "source": [
    "import numpy as np\n",
    "import pandas as pd\n",
    "import matplotlib.pyplot as plt\n",
    "import seaborn as sns\n",
    "\n",
    "#%matplotlib inline\n",
    "\n",
    "# Some code to style plots\n",
    "\n",
    "import matplotlib.pyplot as plt\n",
    "import seaborn as sns\n",
    "\n",
    "\n",
    "nintiesRecData = pd.read_csv(\"../data/raw/recognition_by_generation.csv\")\n",
    "\n",
    "nintiesRecData['avg_across_gen'] = (nintiesRecData['mean_millennial_recognition']*nintiesRecData['mean_gen_z_recognition'])/2 \n",
    "\n",
    "nintiesRecData_sortedByMill = nintiesRecData.sort_values(by=['mean_millennial_recognition'])\n",
    "nintiesRecData_sortedByMill= nintiesRecData_sortedByMill.drop('mean_gen_z_recognition', 1)\n",
    "nintiesRecData_sortedByMill= nintiesRecData_sortedByMill.drop('avg_across_gen', 1)\n",
    "nintiesRecData_sortedByMill = nintiesRecData_sortedByMill.reset_index(drop=True)\n",
    "nintiesRecData_sortedByMill.drop(nintiesRecData_sortedByMill.index[11:332],0,inplace=True)\n",
    "\n",
    "nintiesRecData_sortedByZ = nintiesRecData.sort_values(by=['mean_gen_z_recognition'])\n",
    "nintiesRecData_sortedByZ= nintiesRecData_sortedByZ.drop('mean_gen_z_recognition', 1)\n",
    "nintiesRecData_sortedByZ= nintiesRecData_sortedByZ.drop('avg_across_gen', 1)\n",
    "nintiesRecData_sortedByZ = nintiesRecData_sortedByZ.reset_index(drop=True)\n",
    "nintiesRecData_sortedByZ.drop(nintiesRecData_sortedByZ.index[11:332],0,inplace=True)\n",
    "\n",
    "nintiesRecData_sortedByAvg = nintiesRecData_sortedByAvg.sort_values(by=['avg_across_gen'])\n",
    "nintiesRecData_sortedByAvg = nintiesRecData_sortedByAvg.sort_values(by=['mean_gen_z_recognition'])\n",
    "nintiesRecData_sortedByAvg= nintiesRecData_sortedByAvg.drop('mean_gen_z_recognition', 1)\n",
    "nintiesRecData_sortedByAvg= nintiesRecData_sortedByAvg.drop('avg_across_gen', 1)\n",
    "nintiesRecData_sortedByAvg = nintiesRecData_sortedByAvg.reset_index(drop=True)\n",
    "nintiesRecData_sortedByAvg.drop(nintiesRecData_sortedByAvg.index[11:332],0,inplace=True)\n",
    "\n",
    "nintiesRecData_sortedByMill\n",
    "sns.displot(nintiesRecData_sortedByMill)"
   ]
  },
  {
   "cell_type": "code",
   "execution_count": 47,
   "metadata": {},
   "outputs": [],
   "source": [
    "# Seaborn provides built in datasets\n",
    "#makeNewSortedTables()\n",
    "#nintiesRecData_sortedByMill"
   ]
  },
  {
   "cell_type": "code",
   "execution_count": null,
   "metadata": {},
   "outputs": [],
   "source": []
  },
  {
   "cell_type": "code",
   "execution_count": 26,
   "metadata": {},
   "outputs": [],
   "source": [
    "\n"
   ]
  },
  {
   "cell_type": "code",
   "execution_count": 24,
   "metadata": {},
   "outputs": [],
   "source": [
    "# steps\n",
    "# 1. remove table\n",
    "# 2. create new column of avg between gen \n",
    "# 3. created new sheets in different orders"
   ]
  },
  {
   "cell_type": "code",
   "execution_count": null,
   "metadata": {},
   "outputs": [],
   "source": []
  },
  {
   "cell_type": "code",
   "execution_count": null,
   "metadata": {},
   "outputs": [],
   "source": []
  }
 ],
 "metadata": {
  "kernelspec": {
   "display_name": "Python 3 (ipykernel)",
   "language": "python",
   "name": "python3"
  },
  "language_info": {
   "codemirror_mode": {
    "name": "ipython",
    "version": 3
   },
   "file_extension": ".py",
   "mimetype": "text/x-python",
   "name": "python",
   "nbconvert_exporter": "python",
   "pygments_lexer": "ipython3",
   "version": "3.9.5"
  }
 },
 "nbformat": 4,
 "nbformat_minor": 4
}

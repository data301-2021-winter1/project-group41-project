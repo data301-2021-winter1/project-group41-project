{
 "cells": [
  {
   "cell_type": "markdown",
   "metadata": {},
   "source": [
    "# Anisha Parikh"
   ]
  },
  {
   "cell_type": "markdown",
   "metadata": {},
   "source": [
    "## Research question/interests\n",
    "My research question is what are the top 10 most remembered songs and the bottom 10 least remembered songs. As well as how does recollection of the songs compare across generations."
   ]
  },
  {
   "cell_type": "markdown",
   "metadata": {},
   "source": [
    "Imports"
   ]
  },
  {
   "cell_type": "code",
   "execution_count": 40,
   "metadata": {},
   "outputs": [],
   "source": [
    "import numpy as np\n",
    "import pandas as pd\n",
    "import matplotlib.pyplot as plt\n",
    "import seaborn as sns \n",
    "import project_functions2 as pf\n",
    "from pandas_profiling import ProfileReport"
   ]
  },
  {
   "cell_type": "code",
   "execution_count": 7,
   "metadata": {},
   "outputs": [
    {
     "data": {
      "text/html": [
       "<div>\n",
       "<style scoped>\n",
       "    .dataframe tbody tr th:only-of-type {\n",
       "        vertical-align: middle;\n",
       "    }\n",
       "\n",
       "    .dataframe tbody tr th {\n",
       "        vertical-align: top;\n",
       "    }\n",
       "\n",
       "    .dataframe thead th {\n",
       "        text-align: right;\n",
       "    }\n",
       "</style>\n",
       "<table border=\"1\" class=\"dataframe\">\n",
       "  <thead>\n",
       "    <tr style=\"text-align: right;\">\n",
       "      <th></th>\n",
       "      <th>artist</th>\n",
       "      <th>song</th>\n",
       "      <th>mean_millennial_recognition</th>\n",
       "      <th>mean_gen_z_recognition</th>\n",
       "    </tr>\n",
       "  </thead>\n",
       "  <tbody>\n",
       "    <tr>\n",
       "      <th>0</th>\n",
       "      <td>2 Pac</td>\n",
       "      <td>California Love</td>\n",
       "      <td>0.517602</td>\n",
       "      <td>0.268378</td>\n",
       "    </tr>\n",
       "    <tr>\n",
       "      <th>1</th>\n",
       "      <td>2Pac</td>\n",
       "      <td>How Do U Want It</td>\n",
       "      <td>0.209632</td>\n",
       "      <td>0.062439</td>\n",
       "    </tr>\n",
       "    <tr>\n",
       "      <th>2</th>\n",
       "      <td>702</td>\n",
       "      <td>Where My Girls At?</td>\n",
       "      <td>0.553481</td>\n",
       "      <td>0.244176</td>\n",
       "    </tr>\n",
       "    <tr>\n",
       "      <th>3</th>\n",
       "      <td>Ace Of Base</td>\n",
       "      <td>All That She Wants</td>\n",
       "      <td>0.830967</td>\n",
       "      <td>0.540097</td>\n",
       "    </tr>\n",
       "    <tr>\n",
       "      <th>4</th>\n",
       "      <td>Ace Of Base</td>\n",
       "      <td>Don't Turn Around</td>\n",
       "      <td>0.623149</td>\n",
       "      <td>0.372787</td>\n",
       "    </tr>\n",
       "    <tr>\n",
       "      <th>...</th>\n",
       "      <td>...</td>\n",
       "      <td>...</td>\n",
       "      <td>...</td>\n",
       "      <td>...</td>\n",
       "    </tr>\n",
       "    <tr>\n",
       "      <th>339</th>\n",
       "      <td>Wilson Phillips</td>\n",
       "      <td>Release Me</td>\n",
       "      <td>0.127727</td>\n",
       "      <td>0.060286</td>\n",
       "    </tr>\n",
       "    <tr>\n",
       "      <th>340</th>\n",
       "      <td>Wilson Phillips</td>\n",
       "      <td>You're In Love</td>\n",
       "      <td>0.130290</td>\n",
       "      <td>0.060126</td>\n",
       "    </tr>\n",
       "    <tr>\n",
       "      <th>341</th>\n",
       "      <td>Wreckx-N-Effect</td>\n",
       "      <td>Rump Shaker</td>\n",
       "      <td>0.469101</td>\n",
       "      <td>0.148085</td>\n",
       "    </tr>\n",
       "    <tr>\n",
       "      <th>342</th>\n",
       "      <td>Xscape</td>\n",
       "      <td>Just Kickin' It</td>\n",
       "      <td>0.092154</td>\n",
       "      <td>0.052923</td>\n",
       "    </tr>\n",
       "    <tr>\n",
       "      <th>343</th>\n",
       "      <td>diVINYLS</td>\n",
       "      <td>I Touch Myself</td>\n",
       "      <td>0.356767</td>\n",
       "      <td>0.093943</td>\n",
       "    </tr>\n",
       "  </tbody>\n",
       "</table>\n",
       "<p>344 rows × 4 columns</p>\n",
       "</div>"
      ],
      "text/plain": [
       "              artist                song  mean_millennial_recognition  \\\n",
       "0              2 Pac     California Love                     0.517602   \n",
       "1               2Pac    How Do U Want It                     0.209632   \n",
       "2                702  Where My Girls At?                     0.553481   \n",
       "3        Ace Of Base  All That She Wants                     0.830967   \n",
       "4        Ace Of Base   Don't Turn Around                     0.623149   \n",
       "..               ...                 ...                          ...   \n",
       "339  Wilson Phillips          Release Me                     0.127727   \n",
       "340  Wilson Phillips      You're In Love                     0.130290   \n",
       "341  Wreckx-N-Effect         Rump Shaker                     0.469101   \n",
       "342           Xscape     Just Kickin' It                     0.092154   \n",
       "343         diVINYLS      I Touch Myself                     0.356767   \n",
       "\n",
       "     mean_gen_z_recognition  \n",
       "0                  0.268378  \n",
       "1                  0.062439  \n",
       "2                  0.244176  \n",
       "3                  0.540097  \n",
       "4                  0.372787  \n",
       "..                      ...  \n",
       "339                0.060286  \n",
       "340                0.060126  \n",
       "341                0.148085  \n",
       "342                0.052923  \n",
       "343                0.093943  \n",
       "\n",
       "[344 rows x 4 columns]"
      ]
     },
     "execution_count": 7,
     "metadata": {},
     "output_type": "execute_result"
    }
   ],
   "source": [
    "df = pd.read_csv(\"../data/raw/recognition_by_generation.csv\")\n",
    "df"
   ]
  },
  {
   "cell_type": "code",
   "execution_count": 39,
   "metadata": {},
   "outputs": [
    {
     "data": {
      "text/html": [
       "<div>\n",
       "<style scoped>\n",
       "    .dataframe tbody tr th:only-of-type {\n",
       "        vertical-align: middle;\n",
       "    }\n",
       "\n",
       "    .dataframe tbody tr th {\n",
       "        vertical-align: top;\n",
       "    }\n",
       "\n",
       "    .dataframe thead th {\n",
       "        text-align: right;\n",
       "    }\n",
       "</style>\n",
       "<table border=\"1\" class=\"dataframe\">\n",
       "  <thead>\n",
       "    <tr style=\"text-align: right;\">\n",
       "      <th></th>\n",
       "      <th>count</th>\n",
       "      <th>mean</th>\n",
       "      <th>std</th>\n",
       "      <th>min</th>\n",
       "      <th>25%</th>\n",
       "      <th>50%</th>\n",
       "      <th>75%</th>\n",
       "      <th>max</th>\n",
       "    </tr>\n",
       "  </thead>\n",
       "  <tbody>\n",
       "    <tr>\n",
       "      <th>mean_millennial_recognition</th>\n",
       "      <td>344.0</td>\n",
       "      <td>0.401364</td>\n",
       "      <td>0.265956</td>\n",
       "      <td>0.043351</td>\n",
       "      <td>0.178364</td>\n",
       "      <td>0.344978</td>\n",
       "      <td>0.584260</td>\n",
       "      <td>0.991851</td>\n",
       "    </tr>\n",
       "    <tr>\n",
       "      <th>mean_gen_z_recognition</th>\n",
       "      <td>344.0</td>\n",
       "      <td>0.235506</td>\n",
       "      <td>0.210541</td>\n",
       "      <td>0.019483</td>\n",
       "      <td>0.095589</td>\n",
       "      <td>0.155398</td>\n",
       "      <td>0.303051</td>\n",
       "      <td>0.963497</td>\n",
       "    </tr>\n",
       "  </tbody>\n",
       "</table>\n",
       "</div>"
      ],
      "text/plain": [
       "                             count      mean       std       min       25%  \\\n",
       "mean_millennial_recognition  344.0  0.401364  0.265956  0.043351  0.178364   \n",
       "mean_gen_z_recognition       344.0  0.235506  0.210541  0.019483  0.095589   \n",
       "\n",
       "                                  50%       75%       max  \n",
       "mean_millennial_recognition  0.344978  0.584260  0.991851  \n",
       "mean_gen_z_recognition       0.155398  0.303051  0.963497  "
      ]
     },
     "execution_count": 39,
     "metadata": {},
     "output_type": "execute_result"
    }
   ],
   "source": [
    "df.describe().T"
   ]
  },
  {
   "cell_type": "code",
   "execution_count": 41,
   "metadata": {},
   "outputs": [
    {
     "ename": "ModuleNotFoundError",
     "evalue": "No module named 'ipywidgets'",
     "output_type": "error",
     "traceback": [
      "\u001b[1;31m---------------------------------------------------------------------------\u001b[0m",
      "\u001b[1;31mModuleNotFoundError\u001b[0m                       Traceback (most recent call last)",
      "\u001b[1;32m~\\AppData\\Local\\Temp/ipykernel_14376/3486743306.py\u001b[0m in \u001b[0;36m<module>\u001b[1;34m\u001b[0m\n\u001b[1;32m----> 1\u001b[1;33m \u001b[0mProfileReport\u001b[0m\u001b[1;33m(\u001b[0m\u001b[0mdf\u001b[0m\u001b[1;33m)\u001b[0m\u001b[1;33m.\u001b[0m\u001b[0mto_notebook_iframe\u001b[0m\u001b[1;33m(\u001b[0m\u001b[1;33m)\u001b[0m\u001b[1;33m\u001b[0m\u001b[1;33m\u001b[0m\u001b[0m\n\u001b[0m",
      "\u001b[1;32m~\\miniconda3\\lib\\site-packages\\pandas_profiling\\profile_report.py\u001b[0m in \u001b[0;36mto_notebook_iframe\u001b[1;34m(self)\u001b[0m\n\u001b[0;32m    389\u001b[0m         \u001b[1;32mfrom\u001b[0m \u001b[0mIPython\u001b[0m\u001b[1;33m.\u001b[0m\u001b[0mcore\u001b[0m\u001b[1;33m.\u001b[0m\u001b[0mdisplay\u001b[0m \u001b[1;32mimport\u001b[0m \u001b[0mdisplay\u001b[0m\u001b[1;33m\u001b[0m\u001b[1;33m\u001b[0m\u001b[0m\n\u001b[0;32m    390\u001b[0m \u001b[1;33m\u001b[0m\u001b[0m\n\u001b[1;32m--> 391\u001b[1;33m         from pandas_profiling.report.presentation.flavours.widget.notebook import (\n\u001b[0m\u001b[0;32m    392\u001b[0m             \u001b[0mget_notebook_iframe\u001b[0m\u001b[1;33m,\u001b[0m\u001b[1;33m\u001b[0m\u001b[1;33m\u001b[0m\u001b[0m\n\u001b[0;32m    393\u001b[0m         )\n",
      "\u001b[1;32m~\\miniconda3\\lib\\site-packages\\pandas_profiling\\report\\presentation\\flavours\\widget\\__init__.py\u001b[0m in \u001b[0;36m<module>\u001b[1;34m\u001b[0m\n\u001b[1;32m----> 1\u001b[1;33m \u001b[1;32mfrom\u001b[0m \u001b[0mpandas_profiling\u001b[0m\u001b[1;33m.\u001b[0m\u001b[0mreport\u001b[0m\u001b[1;33m.\u001b[0m\u001b[0mpresentation\u001b[0m\u001b[1;33m.\u001b[0m\u001b[0mflavours\u001b[0m\u001b[1;33m.\u001b[0m\u001b[0mwidget\u001b[0m\u001b[1;33m.\u001b[0m\u001b[0malerts\u001b[0m \u001b[1;32mimport\u001b[0m \u001b[0mWidgetAlerts\u001b[0m\u001b[1;33m\u001b[0m\u001b[1;33m\u001b[0m\u001b[0m\n\u001b[0m\u001b[0;32m      2\u001b[0m \u001b[1;32mfrom\u001b[0m \u001b[0mpandas_profiling\u001b[0m\u001b[1;33m.\u001b[0m\u001b[0mreport\u001b[0m\u001b[1;33m.\u001b[0m\u001b[0mpresentation\u001b[0m\u001b[1;33m.\u001b[0m\u001b[0mflavours\u001b[0m\u001b[1;33m.\u001b[0m\u001b[0mwidget\u001b[0m\u001b[1;33m.\u001b[0m\u001b[0mcollapse\u001b[0m \u001b[1;32mimport\u001b[0m \u001b[0mWidgetCollapse\u001b[0m\u001b[1;33m\u001b[0m\u001b[1;33m\u001b[0m\u001b[0m\n\u001b[0;32m      3\u001b[0m from pandas_profiling.report.presentation.flavours.widget.container import (\n\u001b[0;32m      4\u001b[0m     \u001b[0mWidgetContainer\u001b[0m\u001b[1;33m,\u001b[0m\u001b[1;33m\u001b[0m\u001b[1;33m\u001b[0m\u001b[0m\n\u001b[0;32m      5\u001b[0m )\n",
      "\u001b[1;32m~\\miniconda3\\lib\\site-packages\\pandas_profiling\\report\\presentation\\flavours\\widget\\alerts.py\u001b[0m in \u001b[0;36m<module>\u001b[1;34m\u001b[0m\n\u001b[0;32m      1\u001b[0m \u001b[1;32mfrom\u001b[0m \u001b[0mtyping\u001b[0m \u001b[1;32mimport\u001b[0m \u001b[0mList\u001b[0m\u001b[1;33m\u001b[0m\u001b[1;33m\u001b[0m\u001b[0m\n\u001b[0;32m      2\u001b[0m \u001b[1;33m\u001b[0m\u001b[0m\n\u001b[1;32m----> 3\u001b[1;33m \u001b[1;32mfrom\u001b[0m \u001b[0mipywidgets\u001b[0m \u001b[1;32mimport\u001b[0m \u001b[0mHTML\u001b[0m\u001b[1;33m,\u001b[0m \u001b[0mButton\u001b[0m\u001b[1;33m,\u001b[0m \u001b[0mwidgets\u001b[0m\u001b[1;33m\u001b[0m\u001b[1;33m\u001b[0m\u001b[0m\n\u001b[0m\u001b[0;32m      4\u001b[0m \u001b[1;33m\u001b[0m\u001b[0m\n\u001b[0;32m      5\u001b[0m \u001b[1;32mfrom\u001b[0m \u001b[0mpandas_profiling\u001b[0m\u001b[1;33m.\u001b[0m\u001b[0mreport\u001b[0m\u001b[1;33m.\u001b[0m\u001b[0mpresentation\u001b[0m\u001b[1;33m.\u001b[0m\u001b[0mcore\u001b[0m \u001b[1;32mimport\u001b[0m \u001b[0mAlerts\u001b[0m\u001b[1;33m\u001b[0m\u001b[1;33m\u001b[0m\u001b[0m\n",
      "\u001b[1;31mModuleNotFoundError\u001b[0m: No module named 'ipywidgets'"
     ]
    }
   ],
   "source": [
    "ProfileReport(df).to_notebook_iframe()"
   ]
  },
  {
   "cell_type": "markdown",
   "metadata": {},
   "source": [
    "## Milestone 3"
   ]
  },
  {
   "cell_type": "markdown",
   "metadata": {},
   "source": [
    "Data is trimmed to each generation and the average of generations into three different datasets. Then it is reordered from least recognized to most recognized (top to bottom). "
   ]
  },
  {
   "cell_type": "markdown",
   "metadata": {},
   "source": [
    " steps\n",
    "1. remove table\n",
    "2. create new column of avg between gen \n",
    "3. drop irrelevant columns based on which data sheet\n",
    "4. sort the values from greatest to least according to recognition of the cloumn left\n",
    "5. reindex values\n",
    "6. created new sheets in different orders\n",
    "7. create graphs which indicate how many songs were remembered at which "
   ]
  },
  {
   "cell_type": "code",
   "execution_count": 3,
   "metadata": {},
   "outputs": [
    {
     "name": "stderr",
     "output_type": "stream",
     "text": [
      "C:\\users\\anish\\OneDrive\\Documents\\Year 2 Term 1\\DATA301\\project-group41-project\\notebooks\\project_functions2.py:10: FutureWarning: In a future version of pandas all arguments of DataFrame.drop except for the argument 'labels' will be keyword-only\n",
      "  nintiesRecData.sort_values(by=['mean_millennial_recognition'])\n",
      "C:\\users\\anish\\OneDrive\\Documents\\Year 2 Term 1\\DATA301\\project-group41-project\\notebooks\\project_functions2.py:17: FutureWarning: In a future version of pandas all arguments of DataFrame.drop except for the argument 'labels' will be keyword-only\n",
      "  GenZ = (nintiesRecData.sort_values(by=['mean_gen_z_recognition'])\n",
      "C:\\users\\anish\\OneDrive\\Documents\\Year 2 Term 1\\DATA301\\project-group41-project\\notebooks\\project_functions2.py:24: FutureWarning: In a future version of pandas all arguments of DataFrame.drop except for the argument 'labels' will be keyword-only\n",
      "  Avg = (nintiesRecData.sort_values(by=['avg_across_gen'])\n"
     ]
    }
   ],
   "source": [
    "(Mill, GenZ, Avg) = pf.load_and_process(\"../data/raw/recognition_by_generation.csv\")  "
   ]
  },
  {
   "cell_type": "code",
   "execution_count": 4,
   "metadata": {},
   "outputs": [
    {
     "data": {
      "text/html": [
       "<div>\n",
       "<style scoped>\n",
       "    .dataframe tbody tr th:only-of-type {\n",
       "        vertical-align: middle;\n",
       "    }\n",
       "\n",
       "    .dataframe tbody tr th {\n",
       "        vertical-align: top;\n",
       "    }\n",
       "\n",
       "    .dataframe thead th {\n",
       "        text-align: right;\n",
       "    }\n",
       "</style>\n",
       "<table border=\"1\" class=\"dataframe\">\n",
       "  <thead>\n",
       "    <tr style=\"text-align: right;\">\n",
       "      <th></th>\n",
       "      <th>artist</th>\n",
       "      <th>song</th>\n",
       "      <th>mean_millennial_recognition</th>\n",
       "    </tr>\n",
       "  </thead>\n",
       "  <tbody>\n",
       "    <tr>\n",
       "      <th>0</th>\n",
       "      <td>Jesus Jones</td>\n",
       "      <td>Real, Real, Real</td>\n",
       "      <td>0.043351</td>\n",
       "    </tr>\n",
       "    <tr>\n",
       "      <th>1</th>\n",
       "      <td>PM Dawn</td>\n",
       "      <td>I'd Die Without You</td>\n",
       "      <td>0.048410</td>\n",
       "    </tr>\n",
       "    <tr>\n",
       "      <th>2</th>\n",
       "      <td>Tracie Spencer</td>\n",
       "      <td>This House</td>\n",
       "      <td>0.049024</td>\n",
       "    </tr>\n",
       "    <tr>\n",
       "      <th>3</th>\n",
       "      <td>Tara Kemp</td>\n",
       "      <td>Hold You Tight</td>\n",
       "      <td>0.050395</td>\n",
       "    </tr>\n",
       "    <tr>\n",
       "      <th>4</th>\n",
       "      <td>Taylor Dayne</td>\n",
       "      <td>Love Will Lead You Back</td>\n",
       "      <td>0.054324</td>\n",
       "    </tr>\n",
       "    <tr>\n",
       "      <th>...</th>\n",
       "      <td>...</td>\n",
       "      <td>...</td>\n",
       "      <td>...</td>\n",
       "    </tr>\n",
       "    <tr>\n",
       "      <th>339</th>\n",
       "      <td>Celine Dion</td>\n",
       "      <td>My Heart Will Go On</td>\n",
       "      <td>0.974674</td>\n",
       "    </tr>\n",
       "    <tr>\n",
       "      <th>340</th>\n",
       "      <td>Lou Bega</td>\n",
       "      <td>Mambo No. 5</td>\n",
       "      <td>0.982905</td>\n",
       "    </tr>\n",
       "    <tr>\n",
       "      <th>341</th>\n",
       "      <td>Spice Girls, The</td>\n",
       "      <td>Wannabe</td>\n",
       "      <td>0.983007</td>\n",
       "    </tr>\n",
       "    <tr>\n",
       "      <th>342</th>\n",
       "      <td>Cher</td>\n",
       "      <td>Believe</td>\n",
       "      <td>0.983381</td>\n",
       "    </tr>\n",
       "    <tr>\n",
       "      <th>343</th>\n",
       "      <td>Britney Spears</td>\n",
       "      <td>..Baby One More Time</td>\n",
       "      <td>0.991851</td>\n",
       "    </tr>\n",
       "  </tbody>\n",
       "</table>\n",
       "<p>344 rows × 3 columns</p>\n",
       "</div>"
      ],
      "text/plain": [
       "               artist                     song  mean_millennial_recognition\n",
       "0         Jesus Jones         Real, Real, Real                     0.043351\n",
       "1             PM Dawn      I'd Die Without You                     0.048410\n",
       "2      Tracie Spencer               This House                     0.049024\n",
       "3           Tara Kemp           Hold You Tight                     0.050395\n",
       "4        Taylor Dayne  Love Will Lead You Back                     0.054324\n",
       "..                ...                      ...                          ...\n",
       "339       Celine Dion      My Heart Will Go On                     0.974674\n",
       "340          Lou Bega              Mambo No. 5                     0.982905\n",
       "341  Spice Girls, The                  Wannabe                     0.983007\n",
       "342              Cher                  Believe                     0.983381\n",
       "343    Britney Spears     ..Baby One More Time                     0.991851\n",
       "\n",
       "[344 rows x 3 columns]"
      ]
     },
     "execution_count": 4,
     "metadata": {},
     "output_type": "execute_result"
    }
   ],
   "source": [
    "#Songs recognized by millennials\n",
    "Mill"
   ]
  },
  {
   "cell_type": "code",
   "execution_count": 5,
   "metadata": {},
   "outputs": [
    {
     "data": {
      "text/html": [
       "<div>\n",
       "<style scoped>\n",
       "    .dataframe tbody tr th:only-of-type {\n",
       "        vertical-align: middle;\n",
       "    }\n",
       "\n",
       "    .dataframe tbody tr th {\n",
       "        vertical-align: top;\n",
       "    }\n",
       "\n",
       "    .dataframe thead th {\n",
       "        text-align: right;\n",
       "    }\n",
       "</style>\n",
       "<table border=\"1\" class=\"dataframe\">\n",
       "  <thead>\n",
       "    <tr style=\"text-align: right;\">\n",
       "      <th></th>\n",
       "      <th>artist</th>\n",
       "      <th>song</th>\n",
       "      <th>mean_gen_z_recognition</th>\n",
       "    </tr>\n",
       "  </thead>\n",
       "  <tbody>\n",
       "    <tr>\n",
       "      <th>0</th>\n",
       "      <td>H-Town</td>\n",
       "      <td>Knockin' Da Boots</td>\n",
       "      <td>0.019483</td>\n",
       "    </tr>\n",
       "    <tr>\n",
       "      <th>1</th>\n",
       "      <td>Changing Faces</td>\n",
       "      <td>Stroke You Up</td>\n",
       "      <td>0.022254</td>\n",
       "    </tr>\n",
       "    <tr>\n",
       "      <th>2</th>\n",
       "      <td>PM Dawn</td>\n",
       "      <td>I'd Die Without You</td>\n",
       "      <td>0.022898</td>\n",
       "    </tr>\n",
       "    <tr>\n",
       "      <th>3</th>\n",
       "      <td>Bone Thugs N Harmony</td>\n",
       "      <td>Look Into My Eyes</td>\n",
       "      <td>0.029945</td>\n",
       "    </tr>\n",
       "    <tr>\n",
       "      <th>4</th>\n",
       "      <td>Taylor Dayne</td>\n",
       "      <td>Love Will Lead You Back</td>\n",
       "      <td>0.031723</td>\n",
       "    </tr>\n",
       "    <tr>\n",
       "      <th>...</th>\n",
       "      <td>...</td>\n",
       "      <td>...</td>\n",
       "      <td>...</td>\n",
       "    </tr>\n",
       "    <tr>\n",
       "      <th>339</th>\n",
       "      <td>Lou Bega</td>\n",
       "      <td>Mambo No. 5</td>\n",
       "      <td>0.919295</td>\n",
       "    </tr>\n",
       "    <tr>\n",
       "      <th>340</th>\n",
       "      <td>Smash Mouth</td>\n",
       "      <td>All Star</td>\n",
       "      <td>0.923792</td>\n",
       "    </tr>\n",
       "    <tr>\n",
       "      <th>341</th>\n",
       "      <td>Spice Girls, The</td>\n",
       "      <td>Wannabe</td>\n",
       "      <td>0.926500</td>\n",
       "    </tr>\n",
       "    <tr>\n",
       "      <th>342</th>\n",
       "      <td>Britney Spears</td>\n",
       "      <td>..Baby One More Time</td>\n",
       "      <td>0.961960</td>\n",
       "    </tr>\n",
       "    <tr>\n",
       "      <th>343</th>\n",
       "      <td>Celine Dion</td>\n",
       "      <td>My Heart Will Go On</td>\n",
       "      <td>0.963497</td>\n",
       "    </tr>\n",
       "  </tbody>\n",
       "</table>\n",
       "<p>344 rows × 3 columns</p>\n",
       "</div>"
      ],
      "text/plain": [
       "                   artist                     song  mean_gen_z_recognition\n",
       "0                  H-Town        Knockin' Da Boots                0.019483\n",
       "1          Changing Faces            Stroke You Up                0.022254\n",
       "2                 PM Dawn      I'd Die Without You                0.022898\n",
       "3    Bone Thugs N Harmony        Look Into My Eyes                0.029945\n",
       "4            Taylor Dayne  Love Will Lead You Back                0.031723\n",
       "..                    ...                      ...                     ...\n",
       "339              Lou Bega              Mambo No. 5                0.919295\n",
       "340           Smash Mouth                 All Star                0.923792\n",
       "341      Spice Girls, The                  Wannabe                0.926500\n",
       "342        Britney Spears     ..Baby One More Time                0.961960\n",
       "343           Celine Dion      My Heart Will Go On                0.963497\n",
       "\n",
       "[344 rows x 3 columns]"
      ]
     },
     "execution_count": 5,
     "metadata": {},
     "output_type": "execute_result"
    }
   ],
   "source": [
    "#Songs recognized by generation z\n",
    "GenZ"
   ]
  },
  {
   "cell_type": "code",
   "execution_count": 9,
   "metadata": {},
   "outputs": [
    {
     "data": {
      "text/html": [
       "<div>\n",
       "<style scoped>\n",
       "    .dataframe tbody tr th:only-of-type {\n",
       "        vertical-align: middle;\n",
       "    }\n",
       "\n",
       "    .dataframe tbody tr th {\n",
       "        vertical-align: top;\n",
       "    }\n",
       "\n",
       "    .dataframe thead th {\n",
       "        text-align: right;\n",
       "    }\n",
       "</style>\n",
       "<table border=\"1\" class=\"dataframe\">\n",
       "  <thead>\n",
       "    <tr style=\"text-align: right;\">\n",
       "      <th></th>\n",
       "      <th>artist</th>\n",
       "      <th>song</th>\n",
       "      <th>avg_across_gen</th>\n",
       "    </tr>\n",
       "  </thead>\n",
       "  <tbody>\n",
       "    <tr>\n",
       "      <th>0</th>\n",
       "      <td>PM Dawn</td>\n",
       "      <td>I'd Die Without You</td>\n",
       "      <td>0.000554</td>\n",
       "    </tr>\n",
       "    <tr>\n",
       "      <th>1</th>\n",
       "      <td>H-Town</td>\n",
       "      <td>Knockin' Da Boots</td>\n",
       "      <td>0.000582</td>\n",
       "    </tr>\n",
       "    <tr>\n",
       "      <th>2</th>\n",
       "      <td>Changing Faces</td>\n",
       "      <td>Stroke You Up</td>\n",
       "      <td>0.000733</td>\n",
       "    </tr>\n",
       "    <tr>\n",
       "      <th>3</th>\n",
       "      <td>Taylor Dayne</td>\n",
       "      <td>Love Will Lead You Back</td>\n",
       "      <td>0.000862</td>\n",
       "    </tr>\n",
       "    <tr>\n",
       "      <th>4</th>\n",
       "      <td>Tara Kemp</td>\n",
       "      <td>Hold You Tight</td>\n",
       "      <td>0.000940</td>\n",
       "    </tr>\n",
       "    <tr>\n",
       "      <th>...</th>\n",
       "      <td>...</td>\n",
       "      <td>...</td>\n",
       "      <td>...</td>\n",
       "    </tr>\n",
       "    <tr>\n",
       "      <th>339</th>\n",
       "      <td>Cher</td>\n",
       "      <td>Believe</td>\n",
       "      <td>0.442245</td>\n",
       "    </tr>\n",
       "    <tr>\n",
       "      <th>340</th>\n",
       "      <td>Lou Bega</td>\n",
       "      <td>Mambo No. 5</td>\n",
       "      <td>0.451790</td>\n",
       "    </tr>\n",
       "    <tr>\n",
       "      <th>341</th>\n",
       "      <td>Spice Girls, The</td>\n",
       "      <td>Wannabe</td>\n",
       "      <td>0.455378</td>\n",
       "    </tr>\n",
       "    <tr>\n",
       "      <th>342</th>\n",
       "      <td>Celine Dion</td>\n",
       "      <td>My Heart Will Go On</td>\n",
       "      <td>0.469548</td>\n",
       "    </tr>\n",
       "    <tr>\n",
       "      <th>343</th>\n",
       "      <td>Britney Spears</td>\n",
       "      <td>..Baby One More Time</td>\n",
       "      <td>0.477061</td>\n",
       "    </tr>\n",
       "  </tbody>\n",
       "</table>\n",
       "<p>344 rows × 3 columns</p>\n",
       "</div>"
      ],
      "text/plain": [
       "               artist                     song  avg_across_gen\n",
       "0             PM Dawn      I'd Die Without You        0.000554\n",
       "1              H-Town        Knockin' Da Boots        0.000582\n",
       "2      Changing Faces            Stroke You Up        0.000733\n",
       "3        Taylor Dayne  Love Will Lead You Back        0.000862\n",
       "4           Tara Kemp           Hold You Tight        0.000940\n",
       "..                ...                      ...             ...\n",
       "339              Cher                  Believe        0.442245\n",
       "340          Lou Bega              Mambo No. 5        0.451790\n",
       "341  Spice Girls, The                  Wannabe        0.455378\n",
       "342       Celine Dion      My Heart Will Go On        0.469548\n",
       "343    Britney Spears     ..Baby One More Time        0.477061\n",
       "\n",
       "[344 rows x 3 columns]"
      ]
     },
     "execution_count": 9,
     "metadata": {},
     "output_type": "execute_result"
    }
   ],
   "source": [
    "#Average of the songs recognized by both generation\n",
    "Avg"
   ]
  },
  {
   "cell_type": "code",
   "execution_count": null,
   "metadata": {},
   "outputs": [],
   "source": []
  },
  {
   "cell_type": "markdown",
   "metadata": {},
   "source": [
    "# Graphs"
   ]
  },
  {
   "cell_type": "markdown",
   "metadata": {},
   "source": [
    "## Distribution Plot"
   ]
  },
  {
   "cell_type": "code",
   "execution_count": 22,
   "metadata": {},
   "outputs": [
    {
     "data": {
      "text/plain": [
       "<seaborn.axisgrid.FacetGrid at 0x18257d186d0>"
      ]
     },
     "execution_count": 22,
     "metadata": {},
     "output_type": "execute_result"
    },
    {
     "data": {
      "image/png": "[encoded data removed]",
      "text/plain": [
       "<Figure size 539.5x360 with 1 Axes>"
      ]
     },
     "metadata": {
      "needs_background": "light"
     },
     "output_type": "display_data"
    }
   ],
   "source": [
    "sns.displot(data = Mill, bins = 15)"
   ]
  },
  {
   "cell_type": "code",
   "execution_count": 23,
   "metadata": {},
   "outputs": [
    {
     "data": {
      "text/plain": [
       "<seaborn.axisgrid.FacetGrid at 0x18257d0a880>"
      ]
     },
     "execution_count": 23,
     "metadata": {},
     "output_type": "execute_result"
    },
    {
     "data": {
      "image/png": "[encoded data removed]",
      "text/plain": [
       "<Figure size 519.5x360 with 1 Axes>"
      ]
     },
     "metadata": {
      "needs_background": "light"
     },
     "output_type": "display_data"
    }
   ],
   "source": [
    "sns.displot(data = GenZ, bins = 15)"
   ]
  },
  {
   "cell_type": "code",
   "execution_count": 27,
   "metadata": {},
   "outputs": [
    {
     "data": {
      "text/plain": [
       "<seaborn.axisgrid.FacetGrid at 0x18257e3f5b0>"
      ]
     },
     "execution_count": 27,
     "metadata": {},
     "output_type": "execute_result"
    },
    {
     "data": {
      "image/png": "[encoded data removed]",
      "text/plain": [
       "<Figure size 475.25x360 with 1 Axes>"
      ]
     },
     "metadata": {
      "needs_background": "light"
     },
     "output_type": "display_data"
    }
   ],
   "source": [
    "sns.displot(data = Avg, bins = 15)"
   ]
  },
  {
   "cell_type": "markdown",
   "metadata": {},
   "source": [
    "From the graphs above it can be seen that there is overall low recognition for 90s songs. However, Millenials remember more songs better. This is also shown in the boxplot below."
   ]
  },
  {
   "cell_type": "code",
   "execution_count": 37,
   "metadata": {},
   "outputs": [
    {
     "data": {
      "text/plain": [
       "<AxesSubplot:>"
      ]
     },
     "execution_count": 37,
     "metadata": {},
     "output_type": "execute_result"
    },
    {
     "data": {
      "image/png": "[encoded data removed]",
      "text/plain": [
       "<Figure size 432x288 with 1 Axes>"
      ]
     },
     "metadata": {
      "needs_background": "light"
     },
     "output_type": "display_data"
    }
   ],
   "source": [
    "sns.boxplot(data = df)"
   ]
  },
  {
   "cell_type": "markdown",
   "metadata": {},
   "source": [
    "# Analysis"
   ]
  },
  {
   "cell_type": "markdown",
   "metadata": {},
   "source": [
    "The charts above, as mentioned, show that mellinnials recognize more songs from the 90s than generaztion Z does. That being said it can also be seen that when the average of both generations is taken, there is a very low recognition of songs in general. "
   ]
  },
  {
   "cell_type": "markdown",
   "metadata": {},
   "source": [
    "The datasets also show which songs were rememered most and least by each generation. "
   ]
  },
  {
   "cell_type": "markdown",
   "metadata": {},
   "source": [
    "For millennials the top most rememebered songs include:\n",
    "1. Hit Me Baby One More Time by Britney Spears\n",
    "2. Believe by Cher\n",
    "3. Wannabe by Spice Girls\n",
    "4. All Star by Smash Mouth\n",
    "5. Mambo No. 5 by Lou Bega"
   ]
  },
  {
   "cell_type": "markdown",
   "metadata": {},
   "source": [
    "The songs least remembered by that same generation are:\n",
    "    \n",
    "   1. Real, Real, Real by Jesus Jones\n",
    "   2. I'd Die without you by PM Dawn\n",
    "   3. This House by Tracie Spencer\n",
    "   4. Hold You Tight by Tara Kemp\n",
    "   5. Love Will Lead Back by Taylor Dane"
   ]
  },
  {
   "cell_type": "markdown",
   "metadata": {},
   "source": [
    "For generation z the top most rememebered songs include:\n",
    "1. My Heart Will Go On by Celine Dion\n",
    "2. Hit Me Baby One More Time by Britney Spears\n",
    "3. Wannabe by Spice Girls\n",
    "4. All Star by Smash Mouth\n",
    "5. Mambo No. 5 by Lou Bega"
   ]
  },
  {
   "cell_type": "markdown",
   "metadata": {},
   "source": [
    "The songs least remembered by that same generation are:\n",
    "    \n",
    "   1. Kickin' the Boots by H Town\n",
    "   2. Changing Faces by Stroke You Up\n",
    "   3. I'd Die without you by PM Dawn\n",
    "   4. Look into my Eyes by Bones Thugs N Harmony\n",
    "   5. Love Will Lead Back by Taylor Dane"
   ]
  },
  {
   "cell_type": "markdown",
   "metadata": {},
   "source": [
    "The lists featuring the top songs might have the implication that songs written and performed by female artists might be more successful in order to gain better recognition\n",
    "\n",
    "However, the lists featuring the least most recognized songs discredits the previous claim as it also contains a majority of female artists. That being said it could be implied that the dataset contains more female artists, or the gender identity of the artist does not contribute to their ability to be recognized. "
   ]
  },
  {
   "cell_type": "code",
   "execution_count": null,
   "metadata": {},
   "outputs": [],
   "source": []
  },
  {
   "cell_type": "code",
   "execution_count": null,
   "metadata": {},
   "outputs": [],
   "source": []
  }
 ],
 "metadata": {
  "kernelspec": {
   "display_name": "Python 3",
   "language": "python",
   "name": "python3"
  },
  "language_info": {
   "codemirror_mode": {
    "name": "ipython",
    "version": 3
   },
   "file_extension": ".py",
   "mimetype": "text/x-python",
   "name": "python",
   "nbconvert_exporter": "python",
   "pygments_lexer": "ipython3",
   "version": "3.9.5"
  }
 },
 "nbformat": 4,
 "nbformat_minor": 4
}

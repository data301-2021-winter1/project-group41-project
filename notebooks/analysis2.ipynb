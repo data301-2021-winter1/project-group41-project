{
 "cells": [
  {
   "cell_type": "markdown",
   "metadata": {},
   "source": [
    "# Anisha Parikh"
   ]
  },
  {
   "cell_type": "markdown",
   "metadata": {},
   "source": [
    "## Research question/interests\n",
    "My research question is what are the top 10 most remembered songs and the bottom 10 least remembered songs"
   ]
  },
  {
   "cell_type": "code",
   "execution_count": 49,
   "metadata": {},
   "outputs": [
    {
     "name": "stderr",
     "output_type": "stream",
     "text": [
      "C:\\Users\\anish\\AppData\\Local\\Temp/ipykernel_7688/3227718337.py:19: FutureWarning: In a future version of pandas all arguments of DataFrame.drop except for the argument 'labels' will be keyword-only\n",
      "  nintiesRecData_sortedByMill= nintiesRecData_sortedByMill.drop('mean_gen_z_recognition', 1)\n",
      "C:\\Users\\anish\\AppData\\Local\\Temp/ipykernel_7688/3227718337.py:20: FutureWarning: In a future version of pandas all arguments of DataFrame.drop except for the argument 'labels' will be keyword-only\n",
      "  nintiesRecData_sortedByMill= nintiesRecData_sortedByMill.drop('avg_across_gen', 1)\n"
     ]
    },
    {
     "data": {
      "text/html": [
       "<div>\n",
       "<style scoped>\n",
       "    .dataframe tbody tr th:only-of-type {\n",
       "        vertical-align: middle;\n",
       "    }\n",
       "\n",
       "    .dataframe tbody tr th {\n",
       "        vertical-align: top;\n",
       "    }\n",
       "\n",
       "    .dataframe thead th {\n",
       "        text-align: right;\n",
       "    }\n",
       "</style>\n",
       "<table border=\"1\" class=\"dataframe\">\n",
       "  <thead>\n",
       "    <tr style=\"text-align: right;\">\n",
       "      <th></th>\n",
       "      <th>artist</th>\n",
       "      <th>song</th>\n",
       "      <th>mean_millennial_recognition</th>\n",
       "    </tr>\n",
       "  </thead>\n",
       "  <tbody>\n",
       "    <tr>\n",
       "      <th>0</th>\n",
       "      <td>Jesus Jones</td>\n",
       "      <td>Real, Real, Real</td>\n",
       "      <td>0.043351</td>\n",
       "    </tr>\n",
       "    <tr>\n",
       "      <th>1</th>\n",
       "      <td>PM Dawn</td>\n",
       "      <td>I'd Die Without You</td>\n",
       "      <td>0.048410</td>\n",
       "    </tr>\n",
       "    <tr>\n",
       "      <th>2</th>\n",
       "      <td>Tracie Spencer</td>\n",
       "      <td>This House</td>\n",
       "      <td>0.049024</td>\n",
       "    </tr>\n",
       "    <tr>\n",
       "      <th>3</th>\n",
       "      <td>Tara Kemp</td>\n",
       "      <td>Hold You Tight</td>\n",
       "      <td>0.050395</td>\n",
       "    </tr>\n",
       "    <tr>\n",
       "      <th>4</th>\n",
       "      <td>Taylor Dayne</td>\n",
       "      <td>Love Will Lead You Back</td>\n",
       "      <td>0.054324</td>\n",
       "    </tr>\n",
       "    <tr>\n",
       "      <th>...</th>\n",
       "      <td>...</td>\n",
       "      <td>...</td>\n",
       "      <td>...</td>\n",
       "    </tr>\n",
       "    <tr>\n",
       "      <th>339</th>\n",
       "      <td>Celine Dion</td>\n",
       "      <td>My Heart Will Go On</td>\n",
       "      <td>0.974674</td>\n",
       "    </tr>\n",
       "    <tr>\n",
       "      <th>340</th>\n",
       "      <td>Lou Bega</td>\n",
       "      <td>Mambo No. 5</td>\n",
       "      <td>0.982905</td>\n",
       "    </tr>\n",
       "    <tr>\n",
       "      <th>341</th>\n",
       "      <td>Spice Girls, The</td>\n",
       "      <td>Wannabe</td>\n",
       "      <td>0.983007</td>\n",
       "    </tr>\n",
       "    <tr>\n",
       "      <th>342</th>\n",
       "      <td>Cher</td>\n",
       "      <td>Believe</td>\n",
       "      <td>0.983381</td>\n",
       "    </tr>\n",
       "    <tr>\n",
       "      <th>343</th>\n",
       "      <td>Britney Spears</td>\n",
       "      <td>..Baby One More Time</td>\n",
       "      <td>0.991851</td>\n",
       "    </tr>\n",
       "  </tbody>\n",
       "</table>\n",
       "<p>344 rows × 3 columns</p>\n",
       "</div>"
      ],
      "text/plain": [
       "               artist                     song  mean_millennial_recognition\n",
       "0         Jesus Jones         Real, Real, Real                     0.043351\n",
       "1             PM Dawn      I'd Die Without You                     0.048410\n",
       "2      Tracie Spencer               This House                     0.049024\n",
       "3           Tara Kemp           Hold You Tight                     0.050395\n",
       "4        Taylor Dayne  Love Will Lead You Back                     0.054324\n",
       "..                ...                      ...                          ...\n",
       "339       Celine Dion      My Heart Will Go On                     0.974674\n",
       "340          Lou Bega              Mambo No. 5                     0.982905\n",
       "341  Spice Girls, The                  Wannabe                     0.983007\n",
       "342              Cher                  Believe                     0.983381\n",
       "343    Britney Spears     ..Baby One More Time                     0.991851\n",
       "\n",
       "[344 rows x 3 columns]"
      ]
     },
     "execution_count": 49,
     "metadata": {},
     "output_type": "execute_result"
    }
   ],
   "source": [
    "import numpy as np\n",
    "import pandas as pd\n",
    "import matplotlib.pyplot as plt\n",
    "import seaborn as sns\n",
    "\n",
    "#%matplotlib inline\n",
    "\n",
    "# Some code to style plots\n",
    "\n",
    "import matplotlib.pyplot as plt\n",
    "import seaborn as sns\n",
    "\n",
    "\n",
    "nintiesRecData = pd.read_csv(\"../data/raw/recognition_by_generation.csv\")\n",
    "\n",
    "nintiesRecData['avg_across_gen'] = (nintiesRecData['mean_millennial_recognition']*nintiesRecData['mean_gen_z_recognition'])/2 \n",
    "\n",
    "nintiesRecData_sortedByMill = nintiesRecData.sort_values(by=['mean_millennial_recognition'])\n",
    "nintiesRecData_sortedByMill= nintiesRecData_sortedByMill.drop('mean_gen_z_recognition', 1)\n",
    "nintiesRecData_sortedByMill= nintiesRecData_sortedByMill.drop('avg_across_gen', 1)\n",
    "nintiesRecData_sortedByMill = nintiesRecData_sortedByMill.reset_index(drop=True)\n",
    "\n",
    "#nintiesRecData_sortedByZ = nintiesRecData.sort_values(by=['mean_gen_z_recognition'])\n",
    "#nintiesRecData_sortedByAvg = nintiesRecData.sort_values(by=['avg_across_gen'])\n",
    "\n",
    "nintiesRecData_sortedByMill\n",
    "# sns.displot(nintiesRecData_sortedByMill)"
   ]
  },
  {
   "cell_type": "code",
   "execution_count": 47,
   "metadata": {},
   "outputs": [],
   "source": [
    "# Seaborn provides built in datasets\n",
    "#makeNewSortedTables()\n",
    "#nintiesRecData_sortedByMill"
   ]
  },
  {
   "cell_type": "code",
   "execution_count": null,
   "metadata": {},
   "outputs": [],
   "source": []
  },
  {
   "cell_type": "code",
   "execution_count": 26,
   "metadata": {},
   "outputs": [],
   "source": [
    "\n"
   ]
  },
  {
   "cell_type": "code",
   "execution_count": 24,
   "metadata": {},
   "outputs": [],
   "source": [
    "# steps\n",
    "# 1. remove table\n",
    "# 2. create new column of avg between gen \n",
    "# 3. created new sheets in different orders"
   ]
  },
  {
   "cell_type": "code",
   "execution_count": null,
   "metadata": {},
   "outputs": [],
   "source": []
  },
  {
   "cell_type": "code",
   "execution_count": null,
   "metadata": {},
   "outputs": [],
   "source": []
  }
 ],
 "metadata": {
  "kernelspec": {
   "display_name": "Python 3 (ipykernel)",
   "language": "python",
   "name": "python3"
  },
  "language_info": {
   "codemirror_mode": {
    "name": "ipython",
    "version": 3
   },
   "file_extension": ".py",
   "mimetype": "text/x-python",
   "name": "python",
   "nbconvert_exporter": "python",
   "pygments_lexer": "ipython3",
   "version": "3.9.5"
  }
 },
 "nbformat": 4,
 "nbformat_minor": 4
}
